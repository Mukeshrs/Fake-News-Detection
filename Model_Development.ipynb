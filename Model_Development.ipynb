{
 "cells": [
  {
   "cell_type": "markdown",
   "metadata": {
    "id": "oiNPnu6EtSgN"
   },
   "source": [
    "**1) Load the dataset and map the target variable**"
   ]
  },
  {
   "cell_type": "code",
   "execution_count": 2,
   "metadata": {
    "colab": {
     "base_uri": "https://localhost:8080/"
    },
    "id": "l3sgCnX4swHl",
    "outputId": "249d0c6c-237b-4c01-bbed-29721ebc72dd"
   },
   "outputs": [
    {
     "name": "stderr",
     "output_type": "stream",
     "text": [
      "Skipping line 22852: unexpected end of data\n"
     ]
    }
   ],
   "source": [
    "import pandas as pd\n",
    "\n",
    "fake = pd.read_csv(\"C:\\\\Users\\\\Mukesh\\\\Desktop\\\\Fake News Detection\\\\Fake_News\\\\Fake.csv\", engine ='python', error_bad_lines=False)\n",
    "\n",
    "true = pd.read_csv(\"C:\\\\Users\\\\Mukesh\\\\Desktop\\\\Fake News Detection\\\\Fake_News\\\\True.csv\")\n"
   ]
  },
  {
   "cell_type": "code",
   "execution_count": 3,
   "metadata": {
    "id": "wMljRtRazKPf"
   },
   "outputs": [],
   "source": [
    "fake['target'] = 'fake'\n",
    "true['target'] = 'true'"
   ]
  },
  {
   "cell_type": "code",
   "execution_count": 4,
   "metadata": {
    "id": "66Z0_uggzdUi"
   },
   "outputs": [],
   "source": [
    "data = pd.concat([fake, true]).reset_index(drop = True)"
   ]
  },
  {
   "cell_type": "code",
   "execution_count": 5,
   "metadata": {
    "id": "f_KhrYRgzfPS"
   },
   "outputs": [],
   "source": [
    "from sklearn.utils import shuffle\n",
    "data = shuffle(data)\n",
    "data = data.reset_index(drop=True)"
   ]
  },
  {
   "cell_type": "code",
   "execution_count": 6,
   "metadata": {
    "id": "QR5cRqX1zfFM"
   },
   "outputs": [],
   "source": [
    "data.drop([\"date\"],axis=1,inplace=True)"
   ]
  },
  {
   "cell_type": "code",
   "execution_count": 7,
   "metadata": {
    "id": "DS_iNQd4ze7t"
   },
   "outputs": [],
   "source": [
    "data.drop([\"title\"],axis=1,inplace=True)"
   ]
  },
  {
   "cell_type": "code",
   "execution_count": 8,
   "metadata": {
    "id": "RXiWKTT0zeyg"
   },
   "outputs": [],
   "source": [
    "data['text'] = data['text'].apply(lambda x: x.lower())"
   ]
  },
  {
   "cell_type": "markdown",
   "metadata": {
    "id": "3WdWPZJftid1"
   },
   "source": [
    "**2) Functions to remove punctuations and stop words**"
   ]
  },
  {
   "cell_type": "code",
   "execution_count": 9,
   "metadata": {
    "id": "jl9vNQT_zepR"
   },
   "outputs": [],
   "source": [
    "import string\n",
    "def punctuation_removal(text):\n",
    "    all_list = [char for char in text if char not in string.punctuation]\n",
    "    clean_str = ''.join(all_list)\n",
    "    return clean_str\n",
    "    \n",
    "data['text'] = data['text'].apply(punctuation_removal)"
   ]
  },
  {
   "cell_type": "code",
   "execution_count": 10,
   "metadata": {
    "colab": {
     "base_uri": "https://localhost:8080/"
    },
    "id": "I41Ij2zZzegK",
    "outputId": "10487ba8-9aa8-41f3-b1f4-8edcda58bc29"
   },
   "outputs": [
    {
     "name": "stderr",
     "output_type": "stream",
     "text": [
      "[nltk_data] Downloading package stopwords to\n",
      "[nltk_data]     C:\\Users\\Mukesh\\AppData\\Roaming\\nltk_data...\n",
      "[nltk_data]   Unzipping corpora\\stopwords.zip.\n"
     ]
    }
   ],
   "source": [
    "import nltk\n",
    "nltk.download('stopwords')\n",
    "from nltk.corpus import stopwords\n",
    "stop = stopwords.words('english')\n",
    "data['text'] = data['text'].apply(lambda x: ' '.join([word for word in x.split() if word not in (stop)]))"
   ]
  },
  {
   "cell_type": "markdown",
   "metadata": {
    "id": "7hzYpCc_tvdg"
   },
   "source": [
    "**3) Plots for data analysis**"
   ]
  },
  {
   "cell_type": "code",
   "execution_count": 11,
   "metadata": {
    "colab": {
     "base_uri": "https://localhost:8080/",
     "height": 532
    },
    "id": "gY84yKsezeWA",
    "outputId": "5cdbbbb9-341b-4f56-b743-4f0e679b80f0"
   },
   "outputs": [
    {
     "name": "stderr",
     "output_type": "stream",
     "text": [
      "Matplotlib is building the font cache; this may take a moment.\n"
     ]
    },
    {
     "name": "stdout",
     "output_type": "stream",
     "text": [
      "subject\n",
      "Government News     1570\n",
      "Middle-east          147\n",
      "News                9050\n",
      "US_News              783\n",
      "left-news           4459\n",
      "politics            6841\n",
      "politicsNews       11272\n",
      "worldnews          10145\n",
      "Name: text, dtype: int64\n"
     ]
    },
    {
     "data": {
      "image/png": "[encoded data removed]",
      "text/plain": [
       "<Figure size 432x288 with 1 Axes>"
      ]
     },
     "metadata": {
      "needs_background": "light"
     },
     "output_type": "display_data"
    }
   ],
   "source": [
    "import matplotlib.pyplot as plt\n",
    "print(data.groupby(['subject'])['text'].count())\n",
    "data.groupby(['subject'])['text'].count().plot(kind=\"bar\")\n",
    "plt.show()"
   ]
  },
  {
   "cell_type": "code",
   "execution_count": 12,
   "metadata": {
    "colab": {
     "base_uri": "https://localhost:8080/",
     "height": 359
    },
    "id": "Hmc54S-e0MWO",
    "outputId": "d4e86d2b-c4b8-477e-99a1-8036ae64a92e"
   },
   "outputs": [
    {
     "name": "stdout",
     "output_type": "stream",
     "text": [
      "target\n",
      "fake    22850\n",
      "true    21417\n",
      "Name: text, dtype: int64\n"
     ]
    },
    {
     "data": {
      "image/png": "[encoded data removed]",
      "text/plain": [
       "<Figure size 432x288 with 1 Axes>"
      ]
     },
     "metadata": {
      "needs_background": "light"
     },
     "output_type": "display_data"
    }
   ],
   "source": [
    "print(data.groupby(['target'])['text'].count())\n",
    "data.groupby(['target'])['text'].count().plot(kind=\"bar\")\n",
    "plt.show()"
   ]
  },
  {
   "cell_type": "code",
   "execution_count": 13,
   "metadata": {
    "id": "dWyH0yhe0MRu"
   },
   "outputs": [],
   "source": [
    "# Most frequent words counter (Code adapted from https://www.kaggle.com/rodolfoluna/fake-news-detector)   \n",
    "from nltk import tokenize\n",
    "token_space = tokenize.WhitespaceTokenizer()\n",
    "def counter(text, column_text, quantity):\n",
    "    all_words = ' '.join([text for text in text[column_text]])\n",
    "    token_phrase = token_space.tokenize(all_words)\n",
    "    frequency = nltk.FreqDist(token_phrase)\n",
    "    df_frequency = pd.DataFrame({\"Word\": list(frequency.keys()),\n",
    "                                   \"Frequency\": list(frequency.values())})\n",
    "    df_frequency = df_frequency.nlargest(columns = \"Frequency\", n = quantity)\n",
    "    plt.figure(figsize=(12,8))\n",
    "    ax = sns.barplot(data = df_frequency, x = \"Word\", y = \"Frequency\", color = 'blue')\n",
    "    ax.set(ylabel = \"Count\")\n",
    "    plt.xticks(rotation='vertical')\n",
    "    plt.show()"
   ]
  },
  {
   "cell_type": "code",
   "execution_count": 14,
   "metadata": {
    "colab": {
     "base_uri": "https://localhost:8080/",
     "height": 534
    },
    "id": "nucDxlA70MB2",
    "outputId": "d9445838-cc15-4633-a2b8-d9ce686f1397"
   },
   "outputs": [
    {
     "data": {
      "image/png": "[encoded data removed]",
      "text/plain": [
       "<Figure size 864x576 with 1 Axes>"
      ]
     },
     "metadata": {
      "needs_background": "light"
     },
     "output_type": "display_data"
    }
   ],
   "source": [
    "import seaborn as sns\n",
    "counter(data[data['target'] == 'fake'], 'text', 20)"
   ]
  },
  {
   "cell_type": "code",
   "execution_count": 15,
   "metadata": {
    "colab": {
     "base_uri": "https://localhost:8080/",
     "height": 548
    },
    "id": "bsrX4mQ50L15",
    "outputId": "c43d6a81-682f-42e9-9103-2f68ab5e01e0"
   },
   "outputs": [
    {
     "data": {
      "image/png": "[encoded data removed]",
      "text/plain": [
       "<Figure size 864x576 with 1 Axes>"
      ]
     },
     "metadata": {
      "needs_background": "light"
     },
     "output_type": "display_data"
    }
   ],
   "source": [
    "counter(data[data['target'] == 'true'], 'text', 20)"
   ]
  },
  {
   "cell_type": "markdown",
   "metadata": {
    "id": "E67Vs3_PuD5c"
   },
   "source": [
    "**4) Function to plot confusion matrix**"
   ]
  },
  {
   "cell_type": "code",
   "execution_count": 16,
   "metadata": {
    "id": "a0uRuWov0Ln3"
   },
   "outputs": [],
   "source": [
    "# Function to plot the confusion matrix (code from https://scikit-learn.org/stable/auto_examples/model_selection/plot_confusion_matrix.html)\n",
    "from sklearn import metrics\n",
    "import itertools\n",
    "def plot_confusion_matrix(cm, classes,\n",
    "                          normalize=False,\n",
    "                          title='Confusion matrix',\n",
    "                          cmap=plt.cm.Blues):\n",
    "    \n",
    "    plt.imshow(cm, interpolation='nearest', cmap=cmap)\n",
    "    plt.title(title)\n",
    "    plt.colorbar()\n",
    "    tick_marks = np.arange(len(classes))\n",
    "    plt.xticks(tick_marks, classes, rotation=45)\n",
    "    plt.yticks(tick_marks, classes)"
   ]
  },
  {
   "cell_type": "markdown",
   "metadata": {
    "id": "tkng685cuK_S"
   },
   "source": [
    "**5) Train test split the dataset**"
   ]
  },
  {
   "cell_type": "code",
   "execution_count": 17,
   "metadata": {
    "id": "oAQO0q1G0LZr"
   },
   "outputs": [],
   "source": [
    "from sklearn.model_selection import train_test_split\n",
    "X_train,X_test,y_train,y_test = train_test_split(data['text'], data.target, test_size=0.2, random_state=42)"
   ]
  },
  {
   "cell_type": "markdown",
   "metadata": {
    "id": "DyUCW3gVuP-I"
   },
   "source": [
    "**6) Model Training and Validation**"
   ]
  },
  {
   "cell_type": "code",
   "execution_count": 18,
   "metadata": {
    "colab": {
     "base_uri": "https://localhost:8080/"
    },
    "id": "QByco-sa2bYE",
    "outputId": "eafa7942-5ba0-47e8-f5df-13c68713d9f8"
   },
   "outputs": [
    {
     "name": "stdout",
     "output_type": "stream",
     "text": [
      "accuracy: 98.86%\n"
     ]
    }
   ],
   "source": [
    "# Vectorizing and applying TF-IDF\n",
    "from sklearn.linear_model import LogisticRegression\n",
    "from sklearn.pipeline import Pipeline\n",
    "from sklearn.feature_extraction.text import CountVectorizer\n",
    "from sklearn.feature_extraction.text import TfidfTransformer\n",
    "from sklearn.metrics import accuracy_score\n",
    " \n",
    "pipe = Pipeline([('vect', CountVectorizer()),\n",
    "                 ('tfidf', TfidfTransformer()),\n",
    "                 ('model', LogisticRegression())])\n",
    "# Fitting the model\n",
    "model = pipe.fit(X_train, y_train)\n",
    "# Accuracy\n",
    "prediction = model.predict(X_test)\n",
    "print(\"accuracy: {}%\".format(round(accuracy_score(y_test, prediction)*100,2)))"
   ]
  },
  {
   "cell_type": "code",
   "execution_count": 19,
   "metadata": {
    "colab": {
     "base_uri": "https://localhost:8080/"
    },
    "id": "QmBYMN3m2bVN",
    "outputId": "d90d673e-2805-4ffd-e591-a90f8941a1f7"
   },
   "outputs": [
    {
     "name": "stdout",
     "output_type": "stream",
     "text": [
      "accuracy: 99.71%\n"
     ]
    }
   ],
   "source": [
    "from sklearn.tree import DecisionTreeClassifier\n",
    "\n",
    "pipe = Pipeline([('vect_tree', CountVectorizer()),\n",
    "                 ('tfidf', TfidfTransformer()),\n",
    "                 ('model1', DecisionTreeClassifier())])\n",
    "# Fitting the model\n",
    "model1 = pipe.fit(X_train, y_train)\n",
    "# Accuracy\n",
    "prediction = model1.predict(X_test)\n",
    "print(\"accuracy: {}%\".format(round(accuracy_score(y_test, prediction)*100,2)))\n"
   ]
  },
  {
   "cell_type": "code",
   "execution_count": 20,
   "metadata": {
    "colab": {
     "base_uri": "https://localhost:8080/"
    },
    "id": "bYAF3aAH2bSQ",
    "outputId": "1abb208c-9e97-4418-a752-1d0fe625b442"
   },
   "outputs": [
    {
     "name": "stdout",
     "output_type": "stream",
     "text": [
      "accuracy: 97.92%\n"
     ]
    }
   ],
   "source": [
    "from sklearn.naive_bayes import BernoulliNB\n",
    "\n",
    "pipe = Pipeline([('vect', CountVectorizer()),\n",
    "                 ('tfidf', TfidfTransformer()),\n",
    "                 ('model2', BernoulliNB())])\n",
    "# Fitting the model\n",
    "model2 = pipe.fit(X_train, y_train)\n",
    "# Accuracy\n",
    "prediction = model2.predict(X_test)\n",
    "print(\"accuracy: {}%\".format(round(accuracy_score(y_test, prediction)*100,2)))\n"
   ]
  },
  {
   "cell_type": "code",
   "execution_count": 21,
   "metadata": {
    "colab": {
     "base_uri": "https://localhost:8080/"
    },
    "id": "aZrZKpkv2bOq",
    "outputId": "65d45734-10d3-442f-d15c-ea41119b6dcd"
   },
   "outputs": [
    {
     "name": "stdout",
     "output_type": "stream",
     "text": [
      "accuracy: 98.81%\n"
     ]
    }
   ],
   "source": [
    "from sklearn.ensemble import RandomForestClassifier\n",
    "\n",
    "pipe = Pipeline([('vect', CountVectorizer()),\n",
    "                 ('tfidf', TfidfTransformer()),\n",
    "                 ('model3', RandomForestClassifier(n_estimators=50, criterion=\"entropy\"))])\n",
    "# Fitting the model\n",
    "model3 = pipe.fit(X_train, y_train)\n",
    "# Accuracy\n",
    "prediction = model3.predict(X_test)\n",
    "print(\"accuracy: {}%\".format(round(accuracy_score(y_test, prediction)*100,2)))\n",
    "#out of bag"
   ]
  },
  {
   "cell_type": "code",
   "execution_count": 31,
   "metadata": {
    "colab": {
     "base_uri": "https://localhost:8080/"
    },
    "id": "L9u_DU8T2bKg",
    "outputId": "f3f9113e-20ce-42e7-d381-4bc61ca803e6"
   },
   "outputs": [
    {
     "name": "stdout",
     "output_type": "stream",
     "text": [
      "accuracy: 99.37%\n"
     ]
    }
   ],
   "source": [
    "from sklearn.neural_network import MLPClassifier\n",
    "\n",
    "pipe = Pipeline([('ve0ct', CountVectorizer()),\n",
    "                 ('tfidf', TfidfTransformer()),\n",
    "                 ('model4', MLPClassifier(solver='lbfgs', alpha=1e-5,hidden_layer_sizes=(15), random_state=10) )])\n",
    "# Fitting the model\n",
    "model4 = pipe.fit(X_train, y_train)\n",
    "# Accuracy\n",
    "prediction = model4.predict(X_test)\n",
    "print(\"accuracy: {}%\".format(round(accuracy_score(y_test, prediction)*100,2)))\n"
   ]
  },
  {
   "cell_type": "markdown",
   "metadata": {
    "id": "YTB7N1pxx_KX"
   },
   "source": [
    "**7) Save the Model as Pickle and Make Prediction**"
   ]
  },
  {
   "cell_type": "code",
   "execution_count": 32,
   "metadata": {
    "id": "HCs1WyIZxAvf"
   },
   "outputs": [],
   "source": [
    "import pickle\n",
    "count_vect = CountVectorizer()\n",
    "X_train_counts = count_vect.fit_transform(X_train)\n",
    "tfidf_transformer = TfidfTransformer()\n",
    "X_train_tfidf = tfidf_transformer.fit_transform(X_train_counts)\n",
    "\n",
    "model_ml = DecisionTreeClassifier().fit(X_train_tfidf, y_train)\n",
    "\n",
    "# Save the vectorizer\n",
    "vec_file = 'vectorizer_ml.pickle'\n",
    "pickle.dump(count_vect, open(vec_file, 'wb'))\n",
    "\n",
    "# Save the model\n",
    "mod_file = 'classification_ml.model'\n",
    "pickle.dump(model_ml, open(mod_file, 'wb'))"
   ]
  },
  {
   "cell_type": "code",
   "execution_count": 33,
   "metadata": {},
   "outputs": [],
   "source": [
    "count_vect = CountVectorizer()\n",
    "X_train_counts = count_vect.fit_transform(X_train)\n",
    "tfidf_transformer = TfidfTransformer()\n",
    "X_train_tfidf = tfidf_transformer.fit_transform(X_train_counts)\n",
    "\n",
    "model_dl = MLPClassifier(solver='lbfgs', alpha=1e-5,hidden_layer_sizes=(15), random_state=10).fit(X_train_tfidf, y_train)\n",
    "\n",
    "# Save the vectorizer\n",
    "vec_file = 'vectorizer_dl.pickle'\n",
    "pickle.dump(count_vect, open(vec_file, 'wb'))\n",
    "\n",
    "# Save the model\n",
    "mod_file = 'classification_dl.model'\n",
    "pickle.dump(model_dl, open(mod_file, 'wb'))"
   ]
  },
  {
   "cell_type": "code",
   "execution_count": 10,
   "metadata": {
    "colab": {
     "base_uri": "https://localhost:8080/"
    },
    "id": "w9AAAsfovffh",
    "outputId": "182b953d-c5d6-412f-af96-6da63bc210bf"
   },
   "outputs": [
    {
     "name": "stdout",
     "output_type": "stream",
     "text": [
      "['fake']\n"
     ]
    }
   ],
   "source": [
    "import pickle\n",
    "utt = 'India plans on going to war with USA'\n",
    "# load the vectorizer\n",
    "loaded_vectorizer = pickle.load(open('vectorizer_ml.pickle', 'rb'))\n",
    "\n",
    "# load the model\n",
    "loaded_model = pickle.load(open('classification_ml.model', 'rb'))\n",
    "\n",
    "# make a prediction\n",
    "ml_pred = loaded_model.predict(loaded_vectorizer.transform([utt]))\n",
    "print(loaded_model.predict(loaded_vectorizer.transform([utt])))"
   ]
  },
  {
   "cell_type": "code",
   "execution_count": 11,
   "metadata": {
    "id": "8LG6cY96gNxH"
   },
   "outputs": [
    {
     "name": "stdout",
     "output_type": "stream",
     "text": [
      "['fake']\n"
     ]
    }
   ],
   "source": [
    "utt = 'India plans on going to war with USA'\n",
    "# load the vectorizer\n",
    "loaded_vectorizer = pickle.load(open('vectorizer_dl.pickle', 'rb'))\n",
    "\n",
    "# load the model\n",
    "loaded_model = pickle.load(open('classification_dl.model', 'rb'))\n",
    "\n",
    "# make a prediction\n",
    "dl_pred = loaded_model.predict(loaded_vectorizer.transform([utt]))\n",
    "print(loaded_model.predict(loaded_vectorizer.transform([utt])))"
   ]
  },
  {
   "cell_type": "code",
   "execution_count": 1,
   "metadata": {},
   "outputs": [
    {
     "name": "stdout",
     "output_type": "stream",
     "text": [
      "['India plans on going to war with USA', \"The new Cold War and us: India's strategic ... - Times of India\", 'India China war: Latest News & Videos, Photos about India China ...', 'india news: Help from United States is \"wishful thinking\" by India ...', 'India has to plan for a hot war where friends are few. US-China cold ...', 'India and US must know the new Cold War is a different beast ...', 'India may re-evaluate neutrality in the US-China war - The Sunday ...', 'Xi Jinping tells Chinese military to prepare for war. Is it against India ...', \"Why India Must Avoid Hitching Itself to US Military's Plans for China ...\", \"America Can't Ignore the Next Indo-Pakistani Crisis - War on the Rocks\", 'India Is a Flashpoint in the China-U.S. Cold War - Bloomberg']\n"
     ]
    }
   ],
   "source": [
    "import requests\n",
    "import bs4\n",
    "\n",
    "# Make two strings with default google search URL\n",
    "# 'https://google.com/search?q=' and\n",
    "# our customized search keyword.\n",
    "# Concatenate them\n",
    "text = \"India plans on going to war with USA\"\n",
    "url = 'https://google.com/search?q=news' + text\n",
    "\n",
    "# Fetch the URL data using requests.get(url),\n",
    "# store it in a variable, request_result.\n",
    "request_result = requests.get(url)\n",
    "\n",
    "# Creating soup from the fetched request\n",
    "soup = bs4.BeautifulSoup(request_result.text,\n",
    "                         \"html.parser\")\n",
    "#print(soup)\n",
    "\n",
    "# soup.find.all( h3 ) to grab\n",
    "# all major headings of our search result,\n",
    "heading_object = soup.find_all('h3')\n",
    "\n",
    "# Iterate through the object\n",
    "# and print it as a string.\n",
    "lst= []\n",
    "lst.append(text)\n",
    "\n",
    "for info in heading_object:\n",
    "    #print(info.getText())\n",
    "    lst.append(info.getText())\n",
    "\n",
    "print(lst)"
   ]
  },
  {
   "cell_type": "code",
   "execution_count": 2,
   "metadata": {},
   "outputs": [
    {
     "name": "stdout",
     "output_type": "stream",
     "text": [
      "['india plans going war usa', 'new cold war us indias strategic times india', 'india china war latest news videos photos india china', 'india news help united states wishful thinking india', 'india plan hot war friends uschina cold', 'india us must know new cold war different beast', 'india may reevaluate neutrality uschina war sunday', 'xi jinping tells chinese military prepare war india', 'india must avoid hitching us militarys plans china', 'america cant ignore next indopakistani crisis war rocks', 'india flashpoint chinaus cold war bloomberg']\n"
     ]
    }
   ],
   "source": [
    "#print(lst)\n",
    "\n",
    "import string\n",
    "from sklearn.metrics.pairwise import cosine_similarity\n",
    "from sklearn.feature_extraction.text import CountVectorizer\n",
    "from nltk.corpus import stopwords\n",
    "stopwords = stopwords.words('english')\n",
    "\n",
    "def clean_string(text):\n",
    "    text = ''.join([word for word in text if word not in string.punctuation])\n",
    "    text = text.lower()\n",
    "    text = ' '.join([word for word in text.split() if word not in stopwords])\n",
    "    return text\n",
    "\n",
    "cleaned = list(map(clean_string, lst))\n",
    "print(cleaned)\n",
    "\n",
    "vectorizer = CountVectorizer().fit_transform(cleaned)\n",
    "vectors = vectorizer.toarray()\n",
    "#print(vectors)\n",
    "\n"
   ]
  },
  {
   "cell_type": "code",
   "execution_count": 3,
   "metadata": {},
   "outputs": [
    {
     "name": "stdout",
     "output_type": "stream",
     "text": [
      "[[0.31622777]]\n"
     ]
    }
   ],
   "source": [
    "def cosine_sim_vectors(vec1,vec2):\n",
    "    vec1 = vec1.reshape(1,-1)\n",
    "    vec2 = vec2.reshape(1,-1)\n",
    "    return cosine_similarity(vec1,vec2)\n",
    "\n",
    "print(cosine_sim_vectors(vectors[0],vectors[1]))"
   ]
  },
  {
   "cell_type": "code",
   "execution_count": 5,
   "metadata": {},
   "outputs": [
    {
     "name": "stdout",
     "output_type": "stream",
     "text": [
      "[0.3162277660168379, 0.3721042037676254, 0.282842712474619, 0.3380617018914066, 0.2981423969999719, 0.3380617018914066, 0.3162277660168379, 0.3162277660168379, 0.15811388300841894, 0.36514837167011077]\n"
     ]
    }
   ],
   "source": [
    "cmp = vectors[0]\n",
    "sim_lst=[]\n",
    "\n",
    "for i in range(1, len(vectors)):\n",
    "    cal=cosine_sim_vectors(cmp,vectors[i])\n",
    "    sim_lst.append(cal[0][0])\n",
    "\n",
    "print(sim_lst)"
   ]
  },
  {
   "cell_type": "code",
   "execution_count": 6,
   "metadata": {},
   "outputs": [
    {
     "name": "stdout",
     "output_type": "stream",
     "text": [
      "0.3101158269754073\n"
     ]
    }
   ],
   "source": [
    "from statistics import mean\n",
    "print(mean(sim_lst))"
   ]
  },
  {
   "cell_type": "code",
   "execution_count": 19,
   "metadata": {},
   "outputs": [
    {
     "name": "stdout",
     "output_type": "stream",
     "text": [
      "fake\n"
     ]
    }
   ],
   "source": [
    "Final_Pred = []\n",
    "cmp_mean = mean(sim_lst)\n",
    "\n",
    "if cmp_mean >= 50:\n",
    "    print('true')\n",
    "    Final_Pred.append('true')\n",
    "elif cmp_mean < 50:\n",
    "    print('fake')\n",
    "    Final_Pred.append('fake')"
   ]
  },
  {
   "cell_type": "code",
   "execution_count": 20,
   "metadata": {},
   "outputs": [
    {
     "name": "stdout",
     "output_type": "stream",
     "text": [
      "fake\n"
     ]
    }
   ],
   "source": [
    "print(ml_pred[0]) "
   ]
  },
  {
   "cell_type": "code",
   "execution_count": 21,
   "metadata": {},
   "outputs": [],
   "source": [
    "Final_Pred.append(ml_pred[0])\n",
    "Final_Pred.append(dl_pred[0])"
   ]
  },
  {
   "cell_type": "code",
   "execution_count": 22,
   "metadata": {},
   "outputs": [
    {
     "name": "stdout",
     "output_type": "stream",
     "text": [
      "['fake', 'fake', 'fake']\n"
     ]
    }
   ],
   "source": [
    "print(Final_Pred)"
   ]
  },
  {
   "cell_type": "code",
   "execution_count": 24,
   "metadata": {},
   "outputs": [
    {
     "data": {
      "text/plain": [
       "'fake'"
      ]
     },
     "execution_count": 24,
     "metadata": {},
     "output_type": "execute_result"
    }
   ],
   "source": [
    "from statistics import mode\n",
    "mode(Final_Pred)"
   ]
  },
  {
   "cell_type": "code",
   "execution_count": null,
   "metadata": {},
   "outputs": [],
   "source": []
  }
 ],
 "metadata": {
  "accelerator": "TPU",
  "colab": {
   "collapsed_sections": [],
   "name": "Mid_Sem.ipynb",
   "provenance": []
  },
  "kernelspec": {
   "display_name": "Python 3",
   "language": "python",
   "name": "python3"
  },
  "language_info": {
   "codemirror_mode": {
    "name": "ipython",
    "version": 3
   },
   "file_extension": ".py",
   "mimetype": "text/x-python",
   "name": "python",
   "nbconvert_exporter": "python",
   "pygments_lexer": "ipython3",
   "version": "3.8.8"
  }
 },
 "nbformat": 4,
 "nbformat_minor": 1
}
